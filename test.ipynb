{
 "cells": [
  {
   "cell_type": "code",
   "execution_count": 4,
   "metadata": {},
   "outputs": [
    {
     "name": "stdout",
     "output_type": "stream",
     "text": [
      "load_yaml er importert: True\n"
     ]
    }
   ],
   "source": [
    "# Celle 1: Importer load_yaml-funksjonen fra din filehandler\n",
    "from utils.fileHandler import load_yaml\n",
    "\n",
    "# Sjekk at funksjonen er importert riktig\n",
    "print(\"load_yaml er importert:\", callable(load_yaml))\n",
    "\n"
   ]
  },
  {
   "cell_type": "code",
   "execution_count": 5,
   "metadata": {},
   "outputs": [
    {
     "name": "stderr",
     "output_type": "stream",
     "text": [
      "UsageError: Line magic function `%%writefile` not found.\n"
     ]
    }
   ],
   "source": [
    "# Celle 2: Opprett en gyldig YAML-fil og test at den lastes riktig\n",
    "\n",
    "# Skriv en gyldig YAML-fil til en midlertidig fil\n",
    "yaml_content = \"\"\"\n",
    "train: dataset/train\n",
    "val: dataset/val\n",
    "test: dataset/test\n",
    "nc: 2\n",
    "names: [\"fish\", \"noFish\"]\n",
    "\"\"\"\n",
    "\n",
    "# Vi bruker %%writefile for å lagre filen (kjør denne cellen for å opprette filen)\n",
    "%%writefile temp_valid.yaml\n",
    "train: dataset/train\n",
    "val: dataset/val\n",
    "test: dataset/test\n",
    "nc: 2\n",
    "names: [\"fish\", \"noFish\"]\n",
    "\n",
    "# Last YAML-filen med load_yaml-funksjonen\n",
    "config = load_yaml(\"temp_valid.yaml\")\n",
    "print(\"Gyldig YAML lastet:\")\n",
    "print(config)\n"
   ]
  }
 ],
 "metadata": {
  "kernelspec": {
   "display_name": "Python 3",
   "language": "python",
   "name": "python3"
  },
  "language_info": {
   "codemirror_mode": {
    "name": "ipython",
    "version": 3
   },
   "file_extension": ".py",
   "mimetype": "text/x-python",
   "name": "python",
   "nbconvert_exporter": "python",
   "pygments_lexer": "ipython3",
   "version": "3.13.2"
  }
 },
 "nbformat": 4,
 "nbformat_minor": 2
}
